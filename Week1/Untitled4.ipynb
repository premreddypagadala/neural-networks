{
  "nbformat": 4,
  "nbformat_minor": 0,
  "metadata": {
    "colab": {
      "provenance": [],
      "toc_visible": true,
      "authorship_tag": "ABX9TyODlq98xc1ydqlAZ+bnFDAu",
      "include_colab_link": true
    },
    "kernelspec": {
      "name": "python3",
      "display_name": "Python 3"
    },
    "language_info": {
      "name": "python"
    }
  },
  "cells": [
    {
      "cell_type": "markdown",
      "metadata": {
        "id": "view-in-github",
        "colab_type": "text"
      },
      "source": [
        "<a href=\"https://colab.research.google.com/github/premreddypagadala/neural-networks/blob/main/Week1/Untitled4.ipynb\" target=\"_parent\"><img src=\"https://colab.research.google.com/assets/colab-badge.svg\" alt=\"Open In Colab\"/></a>"
      ]
    },
    {
      "cell_type": "code",
      "execution_count": null,
      "metadata": {
        "colab": {
          "base_uri": "https://localhost:8080/"
        },
        "id": "ylRjTM6hvCI9",
        "outputId": "fb33daa4-6f5f-4024-f920-60fac4dc1807"
      },
      "outputs": [
        {
          "output_type": "stream",
          "name": "stdout",
          "text": [
            "Enter your first name: Prem Kiran Reddy\n",
            "Enter your last name: Pagadala\n",
            "Full name: Prem Kiran Reddy Pagadala\n",
            "Every other character: Pe ia ed aaaa\n"
          ]
        }
      ],
      "source": [
        "# Function to combine first and last name into full name\n",
        "def fullname(first_name, last_name):\n",
        "    return first_name + \" \" + last_name\n",
        "\n",
        "# Function to return every other character from the string\n",
        "def string_alternative(full_name):\n",
        "    return full_name[::2]\n",
        "\n",
        "# Taking user input for first and last name\n",
        "first_name = input(\"Enter your first name: \")\n",
        "last_name = input(\"Enter your last name: \")\n",
        "\n",
        "# Getting the full name by calling the fullname function\n",
        "full_name = fullname(first_name, last_name)\n",
        "\n",
        "# Displaying the full name\n",
        "print(\"Full name:\", full_name)\n",
        "\n",
        "# Getting every other character of the full name by calling the string_alternative function\n",
        "result = string_alternative(full_name)\n",
        "\n",
        "# Displaying the result\n",
        "print(\"Every other character:\", result)\n"
      ]
    },
    {
      "cell_type": "code",
      "source": [],
      "metadata": {
        "id": "l4RnAh-v7Nmn"
      },
      "execution_count": null,
      "outputs": []
    },
    {
      "cell_type": "code",
      "source": [
        "from collections import Counter\n",
        "\n",
        "# Function to count the words in the file\n",
        "def count_words_in_file(file_name):\n",
        "    word_counts = Counter()\n",
        "\n",
        "    with open(file_name, 'r') as infile:\n",
        "        # Read each line from the file\n",
        "        for line in infile:\n",
        "            words = line.split()  # Split the line into words\n",
        "            word_counts.update(words)  # Update the word count using Counter\n",
        "\n",
        "    return word_counts\n",
        "\n",
        "# Function to write the word count to the output file\n",
        "def write_word_count_to_file(word_counts, output_file):\n",
        "    with open(output_file, 'w') as outfile:\n",
        "        outfile.write(\"Word_Count:\\n\")\n",
        "        # Write the word count for each word to the output file\n",
        "        for word, count in word_counts.items():\n",
        "            outfile.write(f\"{word}: {count}\\n\")\n",
        "\n",
        "# File names\n",
        "input_file = 'input.txt'\n",
        "output_file = 'output.txt'\n",
        "\n",
        "# Read the word counts from the input file\n",
        "word_counts = count_words_in_file(input_file)\n",
        "\n",
        "# Print the original lines of the file\n",
        "with open(input_file, 'r') as infile:\n",
        "    for line in infile:\n",
        "        print(line.strip())\n",
        "\n",
        "# Print the word count for each word\n",
        "print(\"Word_Count:\")\n",
        "for word, count in word_counts.items():\n",
        "    print(f\"{word}: {count}\")\n",
        "\n",
        "# Write the word count to the output file\n",
        "write_word_count_to_file(word_counts, output_file)\n"
      ],
      "metadata": {
        "colab": {
          "base_uri": "https://localhost:8080/"
        },
        "id": "IFX_FDJovS7t",
        "outputId": "9e924e3b-2dce-4fdf-cb41-b4197c853a66"
      },
      "execution_count": null,
      "outputs": [
        {
          "output_type": "stream",
          "name": "stdout",
          "text": [
            "Python Course\n",
            "Deep Learning Course\n",
            "Word_Count:\n",
            "Python: 1\n",
            "Course: 2\n",
            "Deep: 1\n",
            "Learning: 1\n"
          ]
        }
      ]
    },
    {
      "cell_type": "code",
      "source": [
        "# Function to convert inches to centimeters\n",
        "def convert_to_cm(inches):\n",
        "    return inches * 2.54\n",
        "\n",
        "# Read heights (in inches) into a list using a nested loop\n",
        "heights_in_inches = []\n",
        "num_customers = int(input(\"Enter the number of customers: \"))\n",
        "for i in range(num_customers):\n",
        "    height = float(input(f\"Enter height for customer {i+1} in inches: \"))\n",
        "    heights_in_inches.append(height)\n",
        "\n",
        "# Convert heights to centimeters using a nested loop\n",
        "heights_in_cm = []\n",
        "for height in heights_in_inches:\n",
        "    cm = convert_to_cm(height)\n",
        "    heights_in_cm.append(round(cm, 2))  # Round the result to two decimal places\n",
        "\n",
        "# Output the result\n",
        "print(\"Heights in centimeters:\", heights_in_cm)\n"
      ],
      "metadata": {
        "colab": {
          "base_uri": "https://localhost:8080/"
        },
        "id": "WJPfffZGvnto",
        "outputId": "cbc4c545-e5bf-46db-e795-2d1dd7b5d231"
      },
      "execution_count": null,
      "outputs": [
        {
          "output_type": "stream",
          "name": "stdout",
          "text": [
            "Enter the number of customers: 3\n",
            "Enter height for customer 1 in inches: 150\n",
            "Enter height for customer 2 in inches: 180\n",
            "Enter height for customer 3 in inches: 240\n",
            "Heights in centimeters: [381.0, 457.2, 609.6]\n"
          ]
        }
      ]
    }
  ]
}