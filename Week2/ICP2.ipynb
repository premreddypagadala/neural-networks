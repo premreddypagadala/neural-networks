{
  "cells": [
    {
      "cell_type": "markdown",
      "metadata": {
        "id": "view-in-github",
        "colab_type": "text"
      },
      "source": [
        "<a href=\"https://colab.research.google.com/github/premreddypagadala/neural-networks/blob/main/Week2/ICP2.ipynb\" target=\"_parent\"><img src=\"https://colab.research.google.com/assets/colab-badge.svg\" alt=\"Open In Colab\"/></a>"
      ]
    },
    {
      "cell_type": "markdown",
      "source": [],
      "metadata": {
        "id": "fbiOpcCtDM_3"
      }
    },
    {
      "cell_type": "code",
      "source": [
        "class Employee:\n",
        "    # Class variable to count the number of Employees\n",
        "    employee_count = 0\n",
        "\n",
        "    def __init__(self, name, family, salary, department):\n",
        "        self.name = name\n",
        "        self.family = family\n",
        "        self.salary = salary\n",
        "        self.department = department\n",
        "        Employee.employee_count += 1\n",
        "\n",
        "    @staticmethod\n",
        "    def calculate_average_salary(employee_list):\n",
        "        total_salary = sum(employee.salary for employee in employee_list)\n",
        "        return total_salary / len(employee_list) if employee_list else 0\n",
        "\n",
        "class FulltimeEmployee(Employee):\n",
        "    pass\n",
        "\n",
        "# Creating instances\n",
        "employee1 = Employee(\"Sumith\", \"Sumith Family\", 30000, \"Information Tech\")\n",
        "employee2 = Employee(\"Naveed\", \"Naveed Family\", 45000, \"Marketing Tech\")\n",
        "fulltime_employee1 = FulltimeEmployee(\"Prem Reddy\", \"Prem Family\", 60000, \"Engineering\")\n",
        "fulltime_employee2 = FulltimeEmployee(\"Manikanta Konda\", \"Konda Family\", 75000, \"Engineering\")\n",
        "\n",
        "# List of employees\n",
        "employee_list = [employee1, employee2, fulltime_employee1, fulltime_employee2]\n",
        "\n",
        "# Output results\n",
        "print(f\"Total number of employees: {Employee.employee_count}\")\n",
        "print(f\"Average salary of employees: {Employee.calculate_average_salary(employee_list):.2f}\")\n"
      ],
      "metadata": {
        "id": "EiStcI23GoPG",
        "outputId": "6399e396-445b-4edc-9548-e353b5fea17c",
        "colab": {
          "base_uri": "https://localhost:8080/"
        }
      },
      "execution_count": 6,
      "outputs": [
        {
          "output_type": "stream",
          "name": "stdout",
          "text": [
            "Total number of employees: 4\n",
            "Average salary of employees: 52500.00\n"
          ]
        }
      ]
    },
    {
      "cell_type": "markdown",
      "source": [
        "https://drive.google.com/drive/folders/1h1ypSdf1nLmhvocDzBbm1dgjjs7u9yaa?usp=sharing"
      ],
      "metadata": {
        "id": "71AsPufo1GvA"
      }
    },
    {
      "cell_type": "code",
      "source": [
        "import numpy as np\n",
        "\n",
        "# Step 1: Generate a random array of size 20 with floats in the range 1 to 20\n",
        "random_array = np.random.rand(20) * 19 + 1\n",
        "\n",
        "# Step 2: Reshape the array to a 4x5 matrix\n",
        "matrix = random_array.reshape(4, 5)\n",
        "\n",
        "# Step 3: Replace the maximum value in each row with 0 using broadcasting\n",
        "row_max = matrix.max(axis=1, keepdims=True)\n",
        "modified_matrix = np.where(matrix == row_max, 0, matrix)\n",
        "\n",
        "# Outputs\n",
        "print(\"Original 4x5 matrix:\\n\", matrix)\n",
        "print(\"Matrix after replacing max in each row with 0:\\n\", modified_matrix)\n"
      ],
      "metadata": {
        "id": "hxMQQd3O01ux",
        "outputId": "c10883c3-2df3-4ca2-93b4-a115d98fc70d",
        "colab": {
          "base_uri": "https://localhost:8080/"
        }
      },
      "execution_count": 10,
      "outputs": [
        {
          "output_type": "stream",
          "name": "stdout",
          "text": [
            "Original 4x5 matrix:\n",
            " [[17.11602707 11.82409631 11.42341849 11.15626883 16.74503882]\n",
            " [ 6.03569066  6.07705994  3.9509882  15.1693517   1.72656791]\n",
            " [15.24419016 15.57290398 10.74342117  6.95279337 19.10124058]\n",
            " [14.9682047  16.37141047 12.00610519  6.40387266 16.62854763]]\n",
            "Matrix after replacing max in each row with 0:\n",
            " [[ 0.         11.82409631 11.42341849 11.15626883 16.74503882]\n",
            " [ 6.03569066  6.07705994  3.9509882   0.          1.72656791]\n",
            " [15.24419016 15.57290398 10.74342117  6.95279337  0.        ]\n",
            " [14.9682047  16.37141047 12.00610519  6.40387266  0.        ]]\n"
          ]
        }
      ]
    },
    {
      "cell_type": "markdown",
      "source": [
        "https://drive.google.com/drive/folders/1h1ypSdf1nLmhvocDzBbm1dgjjs7u9yaa?usp=sharing"
      ],
      "metadata": {
        "id": "zTiUBanU1FQX"
      }
    }
  ],
  "metadata": {
    "colab": {
      "name": "Welcome To Colab",
      "provenance": [],
      "include_colab_link": true
    },
    "kernelspec": {
      "display_name": "Python 3",
      "name": "python3"
    }
  },
  "nbformat": 4,
  "nbformat_minor": 0
}